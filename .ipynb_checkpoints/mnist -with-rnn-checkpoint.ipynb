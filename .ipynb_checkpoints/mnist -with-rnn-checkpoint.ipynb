{
 "cells": [
  {
   "cell_type": "markdown",
   "metadata": {},
   "source": [
    "## Implementing our first neural network\n",
    "One of the stepping stones to the introduction of neural networks is to implement a neural network that is able to classify digits. For this task, we will be using the famous MNIST dataset made available at http://yann.lecun.com/exdb/mnist/. \n",
    "### Preparing the data\n",
    "First, we need to download the dataset with the download_data(...) function and preprocess it with the read_mnist(...) function. "
   ]
  },
  {
   "cell_type": "code",
   "execution_count": 2,
   "metadata": {},
   "outputs": [],
   "source": [
    "import tensorflow as tf\n",
    "import os\n",
    "import numpy as np\n",
    "import matplotlib.pyplot as plt\n",
    "\n",
    "%matplotlib inline\n",
    "# to down the data\n",
    "import struct\n",
    "import gzip\n",
    "import os\n",
    "from six.moves.urllib.request import urlretrieve"
   ]
  },
  {
   "cell_type": "code",
   "execution_count": 3,
   "metadata": {},
   "outputs": [
    {
     "name": "stdout",
     "output_type": "stream",
     "text": [
      "Attempting to download:  train-images-idx3-ubyte.gz\n",
      "\n",
      "Download complete!\n",
      "Found and verified train-images-idx3-ubyte.gz\n",
      "Attempting to download:  train-labels-idx1-ubyte.gz\n",
      "\n",
      "Download complete!\n",
      "Found and verified train-labels-idx1-ubyte.gz\n",
      "Attempting to download:  t10k-images-idx3-ubyte.gz\n",
      "\n",
      "Download complete!\n",
      "Found and verified t10k-images-idx3-ubyte.gz\n",
      "Attempting to download:  t10k-labels-idx1-ubyte.gz\n",
      "\n",
      "Download complete!\n",
      "Found and verified t10k-labels-idx1-ubyte.gz\n"
     ]
    },
    {
     "data": {
      "text/plain": [
       "'t10k-labels-idx1-ubyte.gz'"
      ]
     },
     "execution_count": 3,
     "metadata": {},
     "output_type": "execute_result"
    }
   ],
   "source": [
    "def download_data(url, filename, expected_bytes, force=False):\n",
    "    \"\"\"Download a file if not present and make sure its the right size\"\"\"\n",
    "    if force or not os.path.exists(filename):\n",
    "        print('Attempting to download: ', filename)\n",
    "        filename, _ = urlretrieve(url + filename, filename)\n",
    "        print('\\nDownload complete!')\n",
    "    statinfo = os.stat(filename)\n",
    "    if statinfo.st_size == expected_bytes:\n",
    "        print('Found and verified', filename)\n",
    "    else:\n",
    "        raise Exception(\n",
    "            'Failed to verify ' + filename + '. Can you get it using your browser?.'\n",
    "        )\n",
    "    return filename\n",
    "\n",
    "# Download data if needed\n",
    "url = 'http://yann.lecun.com/exdb/mnist/'\n",
    "# training data\n",
    "download_data(url,'train-images-idx3-ubyte.gz',9912422)\n",
    "download_data(url,'train-labels-idx1-ubyte.gz',28881)\n",
    "# testing data\n",
    "download_data(url,'t10k-images-idx3-ubyte.gz',1648877)\n",
    "download_data(url,'t10k-labels-idx1-ubyte.gz',4542)"
   ]
  },
  {
   "cell_type": "markdown",
   "metadata": {},
   "source": [
    "## Read Data without Preprocessing \n",
    "Reading the byte stream of the dataset and forming it into a proper numpy.ndarray object"
   ]
  },
  {
   "cell_type": "code",
   "execution_count": 7,
   "metadata": {},
   "outputs": [],
   "source": [
    "def read_mnist(fname_img, fname_lbl):\n",
    "    print('\\nReading files %s and %s' %(fname_img, fname_lbl))\n",
    "    \n",
    "    with gzip.open(fname_img) as fimg:\n",
    "        magic, num, rows, cols = struct.unpack(\">IIII\", fimg.read(16))\n",
    "        print(num, rows, cols)\n",
    "        img = (np.frombuffer(fimg.read(num*rows*cols), dtype=np.uint8).reshape(num, rows*cols)).astype(np.float32)\n",
    "        print('(Images) REturned a tensor of shape ', img.shape)\n",
    "        \n",
    "        img = (img - np.mean(img)) /np.std(img)\n",
    "    \n",
    "    with gzip.open(fname_lbl) as flbl:\n",
    "        #flbl.read(8) reads upto 8 bytes\n",
    "        magic, num = struct.unpack(\">II\", flbl.read(8))\n",
    "        lbl = np.frombuffer(flbl.read(num), dtype=np.int8)\n",
    "        print('(Lables) Returned a tensro of shape: %s' %lbl.shape)\n",
    "        print('Sample labels: ', lbl[:10])\n",
    "   \n",
    "    return img, lbl\n",
    "        "
   ]
  },
  {
   "cell_type": "code",
   "execution_count": 8,
   "metadata": {},
   "outputs": [
    {
     "name": "stdout",
     "output_type": "stream",
     "text": [
      "\n",
      "Reading files train-images-idx3-ubyte.gz and train-labels-idx1-ubyte.gz\n",
      "60000 28 28\n",
      "(Images) REturned a tensor of shape  (60000, 784)\n",
      "(Lables) Returned a tensro of shape: 60000\n",
      "Sample labels:  [5 0 4 1 9 2 1 3 1 4]\n",
      "\n",
      "Reading files t10k-images-idx3-ubyte.gz and t10k-labels-idx1-ubyte.gz\n",
      "10000 28 28\n",
      "(Images) REturned a tensor of shape  (10000, 784)\n",
      "(Lables) Returned a tensro of shape: 10000\n",
      "Sample labels:  [7 2 1 0 4 1 4 9 5 9]\n"
     ]
    }
   ],
   "source": [
    "# Read the training and testing data\n",
    "train_inputs, train_labels = read_mnist('train-images-idx3-ubyte.gz', 'train-labels-idx1-ubyte.gz')\n",
    "test_inputs, test_labels = read_mnist('t10k-images-idx3-ubyte.gz', 't10k-labels-idx1-ubyte.gz')"
   ]
  },
  {
   "cell_type": "markdown",
   "metadata": {},
   "source": [
    "# defining Hyperparameters and some constants"
   ]
  },
  {
   "cell_type": "code",
   "execution_count": null,
   "metadata": {},
   "outputs": [],
   "source": [
    "WEIGHTS_STRING = 'weights'\n",
    "BIAS_STRING = 'bias'\n",
    "\n",
    "batch_size = 100\n",
    "\n",
    "img_width, img_height = 28, 28\n",
    "input_size = img_height * img_width\n",
    "num_labels = 10\n",
    "\n",
    "# resets the default graph otherwise raises an error about the already initialised variables"
   ]
  },
  {
   "cell_type": "markdown",
   "metadata": {},
   "source": [
    "## Defining Input and Label Placeholders¶"
   ]
  },
  {
   "cell_type": "code",
   "execution_count": null,
   "metadata": {},
   "outputs": [],
   "source": []
  }
 ],
 "metadata": {
  "kernelspec": {
   "display_name": "Python 3",
   "language": "python",
   "name": "python3"
  },
  "language_info": {
   "codemirror_mode": {
    "name": "ipython",
    "version": 3
   },
   "file_extension": ".py",
   "mimetype": "text/x-python",
   "name": "python",
   "nbconvert_exporter": "python",
   "pygments_lexer": "ipython3",
   "version": "3.6.4"
  }
 },
 "nbformat": 4,
 "nbformat_minor": 2
}
