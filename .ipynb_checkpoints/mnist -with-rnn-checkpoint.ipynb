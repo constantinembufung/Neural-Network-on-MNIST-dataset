{
 "cells": [
  {
   "cell_type": "markdown",
   "metadata": {},
   "source": [
    "## Implementing our first neural network\n",
    "One of the stepping stones to the introduction of neural networks is to implement a neural network that is able to classify digits. For this task, we will be using the famous MNIST dataset made available at http://yann.lecun.com/exdb/mnist/. \n",
    "### Preparing the data\n",
    "First, we need to download the dataset with the download_data(...) function and preprocess it with the read_mnist(...) function. "
   ]
  },
  {
   "cell_type": "code",
   "execution_count": null,
   "metadata": {},
   "outputs": [],
   "source": [
    "import tensorflow as tf\n",
    "import os\n",
    "import numpy as np\n",
    "import matplotlib.pyplot as plt\n",
    "\n",
    "%matplotlib inline\n",
    "# to down the data\n",
    "import struct\n",
    "import gzip\n",
    "import os\n",
    "from six.moves.urllib.request import urlretrieve"
   ]
  },
  {
   "cell_type": "code",
   "execution_count": 3,
   "metadata": {},
   "outputs": [
    {
     "name": "stdout",
     "output_type": "stream",
     "text": [
      "Attempting to download:  train-images-idx3-ubyte.gz\n",
      "\n",
      "Download complete!\n",
      "Found and verified train-images-idx3-ubyte.gz\n",
      "Attempting to download:  train-labels-idx1-ubyte.gz\n",
      "\n",
      "Download complete!\n",
      "Found and verified train-labels-idx1-ubyte.gz\n",
      "Attempting to download:  t10k-images-idx3-ubyte.gz\n",
      "\n",
      "Download complete!\n",
      "Found and verified t10k-images-idx3-ubyte.gz\n",
      "Attempting to download:  t10k-labels-idx1-ubyte.gz\n",
      "\n",
      "Download complete!\n",
      "Found and verified t10k-labels-idx1-ubyte.gz\n"
     ]
    },
    {
     "data": {
      "text/plain": [
       "'t10k-labels-idx1-ubyte.gz'"
      ]
     },
     "execution_count": 3,
     "metadata": {},
     "output_type": "execute_result"
    }
   ],
   "source": [
    "def download_data(url, filename, expected_bytes, force=False):\n",
    "    \"\"\"Download a file if not present and make sure its the right size\"\"\"\n",
    "    if force or not os.path.exists(filename):\n",
    "        print('Attempting to download: ', filename)\n",
    "        filename, _ = urlretrieve(url + filename, filename)\n",
    "        print('\\nDownload complete!')\n",
    "    statinfo = os.stat(filename)\n",
    "    if statinfo.st_size == expected_bytes:\n",
    "        print('Found and verified', filename)\n",
    "    else:\n",
    "        raise Exception(\n",
    "            'Failed to verify ' + filename + '. Can you get it using your browser?.'\n",
    "        )\n",
    "    return filename\n",
    "\n",
    "# Download data if needed\n",
    "url = 'http://yann.lecun.com/exdb/mnist/'\n",
    "# training data\n",
    "download_data(url,'train-images-idx3-ubyte.gz',9912422)\n",
    "download_data(url,'train-labels-idx1-ubyte.gz',28881)\n",
    "# testing data\n",
    "download_data(url,'t10k-images-idx3-ubyte.gz',1648877)\n",
    "download_data(url,'t10k-labels-idx1-ubyte.gz',4542)"
   ]
  },
  {
   "cell_type": "markdown",
   "metadata": {},
   "source": [
    "## Read Data without Preprocessing \n",
    "Reading the byte stream of the dataset and forming it into a proper numpy.ndarray object"
   ]
  },
  {
   "cell_type": "code",
   "execution_count": null,
   "metadata": {},
   "outputs": [],
   "source": [
    "def read_mnist(fname_img, fname_lbl):\n",
    "    print('\\nReading files %s and %s' %(fname_img, fname_lbl))\n",
    "    \n",
    "    with gzip.open(fname_img) as fimg:\n",
    "        magic, num, rows, cols = struct.unpack(\">IIII\", fimg.read(16))\n",
    "        print(num, rows, cols)\n",
    "        img = (np.frombuffer(fimg.read(num*rows*cols), dtype=np.uint8).reshape(num, rows*cols)).astype(np.float32)\n",
    "        print('(Images) REturned a tensor of shape ', img.shape)\n",
    "        \n",
    "        img = (img - np.mean(img)) /np.std(img)\n",
    "    \n",
    "    with gzip.open(fname_lbl) as flbl:\n",
    "        #flbl.read(8) reads upto 8 bytes\n",
    "        magic, num = struct.unpack(\">II\", flbl.read(8))\n",
    "        lbl = np.frombuffer(flbl.read(num), dtype=np.int8)\n",
    "        print('(Lables) Returned a tensro of shape: %s' %lbl.shape)\n",
    "        print('Sample labels: ', lbl[:10])\n",
    "   \n",
    "    return img, lbl\n",
    "        "
   ]
  },
  {
   "cell_type": "code",
   "execution_count": null,
   "metadata": {},
   "outputs": [],
   "source": [
    "# Read the training and testing data\n",
    "train_inputs, train_labels = read_mnist('train-images-idx3-ubyte.gz', 'train-labels-idx1-ubyte.gz')\n",
    "test_inputs, test_labels = read_mnist('t10k-images-idx3-ubyte.gz', 't10k-labels-idx1-ubyte.gz')"
   ]
  },
  {
   "cell_type": "markdown",
   "metadata": {},
   "source": [
    "# defining Hyperparameters and some constants"
   ]
  },
  {
   "cell_type": "code",
   "execution_count": null,
   "metadata": {},
   "outputs": [],
   "source": [
    "WEIGHTS_STRING = 'weights'\n",
    "BIAS_STRING = 'bias'\n",
    "\n",
    "batch_size = 100\n",
    "\n",
    "img_width, img_height = 28,28\n",
    "input_size = img_height * img_width\n",
    "num_labels = 10\n",
    "\n",
    "# resets the default graph Otherwise raises an error about already initialized variables\n",
    "tf.reset_default_graph() "
   ]
  },
  {
   "cell_type": "markdown",
   "metadata": {},
   "source": [
    "## Defining Input and Label Placeholders¶"
   ]
  },
  {
   "cell_type": "code",
   "execution_count": null,
   "metadata": {},
   "outputs": [],
   "source": [
    "tf_inputs = tf.placeholder(shape=[batch_size, input_size], dtype=tf.float32, name='inputs')\n",
    "tf_labels = tf.placeholder(shape=[batch_size, num_labels], dtype=tf.float32, name='labels')"
   ]
  },
  {
   "cell_type": "markdown",
   "metadata": {},
   "source": [
    "# Define the weights and biases Variables (with scoping)"
   ]
  },
  {
   "cell_type": "code",
   "execution_count": null,
   "metadata": {},
   "outputs": [],
   "source": [
    "# Defining the Tensorflow variables\n",
    "def define_net_parameters():\n",
    "    with tf.variable_scope('layer1'):\n",
    "        tf.get_variable(WEIGHTS_STRING,shape=[input_size,500],\n",
    "                            initializer=tf.random_normal_initializer(0,0.02))\n",
    "        tf.get_variable(BIAS_STRING, shape=[500],\n",
    "                           initializer=tf.random_uniform_initializer(0,0.01))\n",
    "        \n",
    "    with tf.variable_scope('layer2'):\n",
    "        tf.get_variable(WEIGHTS_STRING,shape=[500,250],\n",
    "                            initializer=tf.random_normal_initializer(0,0.02))\n",
    "        tf.get_variable(BIAS_STRING, shape=[250],\n",
    "                           initializer=tf.random_uniform_initializer(0,0.01))\n",
    "    \n",
    "    with tf.variable_scope('layer3'):\n",
    "        tf.get_variable(WEIGHTS_STRING,shape=[250,125],\n",
    "                            initializer=tf.random_normal_initializer(0,0.02))\n",
    "        tf.get_variable(BIAS_STRING, shape=[125],\n",
    "                           initializer=tf.random_uniform_initializer(0,0.01))\n",
    "        \n",
    "    with tf.variable_scope('output'):\n",
    "        tf.get_variable(WEIGHTS_STRING,shape=[125,10],\n",
    "                            initializer=tf.random_normal_initializer(0,0.02))\n",
    "        tf.get_variable(BIAS_STRING, shape=[10],\n",
    "                           initializer=tf.random_uniform_initializer(0,0.01))"
   ]
  },
  {
   "cell_type": "markdown",
   "metadata": {},
   "source": [
    "## Defining the Inference Operation\n",
    "Here we calculate the output logits (unnormalized scores) for a given input x"
   ]
  },
  {
   "cell_type": "code",
   "execution_count": null,
   "metadata": {},
   "outputs": [],
   "source": [
    "#define the logits \n",
    "def inference(x):\n",
    "    # calculations for layer 1\n",
    "    with tf.variable_scope('layer1',reuse=True):\n",
    "        w,b = tf.get_variable(WEIGHTS_STRING), tf.get_variable(BIAS_STRING)\n",
    "        tf_h1 = tf.nn.relu(tf.matmul(x,w) + b, name = 'hidden1')\n",
    "\n",
    "    # calculations for layer 2\n",
    "    with tf.variable_scope('layer2',reuse=True):\n",
    "        w,b = tf.get_variable(WEIGHTS_STRING), tf.get_variable(BIAS_STRING)\n",
    "        tf_h2 = tf.nn.relu(tf.matmul(tf_h1,w) + b, name = 'hidden1')\n",
    "        \n",
    "     # calculations for layer 3\n",
    "    with tf.variable_scope('layer3',reuse=True):\n",
    "        w,b = tf.get_variable(WEIGHTS_STRING), tf.get_variable(BIAS_STRING)\n",
    "        tf_h3 = tf.nn.relu(tf.matmul(tf_h2,w) + b, name = 'hidden1')\n",
    "\n",
    "    # calculations for output layer\n",
    "    with tf.variable_scope('output',reuse=True):\n",
    "        w,b = tf.get_variable(WEIGHTS_STRING), tf.get_variable(BIAS_STRING)\n",
    "        tf_logits = tf.nn.bias_add(tf.matmul(tf_h3,w), b, name = 'logits')\n",
    "\n",
    "    return tf_logits"
   ]
  },
  {
   "cell_type": "markdown",
   "metadata": {},
   "source": [
    "## Defining Loss function and optimizer \n",
    "we use the cross entropy loss function and a momentum-based optimizer for learning"
   ]
  },
  {
   "cell_type": "code",
   "execution_count": null,
   "metadata": {},
   "outputs": [],
   "source": [
    "define_net_parameters()\n",
    "\n",
    "# defining the loss\n",
    "tf_loss = tf.reduce_mean(tf.nn.softmax_cross_entropy_with_logits_v2(logits=inference(tf_inputs), labels=tf_labels))\n",
    "\n",
    "# defining the optimize function\n",
    "tf_loss_minimize = tf.train.MomentumOptimizer(momentum=0.9,learning_rate=0.01).minimize(tf_loss)"
   ]
  },
  {
   "cell_type": "markdown",
   "metadata": {},
   "source": [
    "## Defining Predictions"
   ]
  },
  {
   "cell_type": "code",
   "execution_count": null,
   "metadata": {},
   "outputs": [],
   "source": [
    "#defining predictions\n",
    "tf_predictions = tf.nn.softmax(inference(tf_inputs))"
   ]
  },
  {
   "cell_type": "markdown",
   "metadata": {},
   "source": [
    "## Executing the Graph to get the Classification Results"
   ]
  },
  {
   "cell_type": "code",
   "execution_count": 67,
   "metadata": {},
   "outputs": [
    {
     "name": "stderr",
     "output_type": "stream",
     "text": [
      "/Users/online1/anaconda3/lib/python3.6/site-packages/tensorflow/python/client/session.py:1711: UserWarning: An interactive session is already active. This can cause out-of-memory errors in some cases. You must explicitly call `InteractiveSession.close()` to release resources held by the other session(s).\n",
      "  warnings.warn('An interactive session is already active. This can '\n"
     ]
    },
    {
     "name": "stdout",
     "output_type": "stream",
     "text": [
      "Sample labels (one-hot)\n",
      "[[0. 0. 0. 0. 0. 1. 0. 0. 0. 0.]\n",
      " [1. 0. 0. 0. 0. 0. 0. 0. 0. 0.]\n",
      " [0. 0. 0. 0. 1. 0. 0. 0. 0. 0.]\n",
      " [0. 1. 0. 0. 0. 0. 0. 0. 0. 0.]\n",
      " [0. 0. 0. 0. 0. 0. 0. 0. 0. 1.]\n",
      " [0. 0. 1. 0. 0. 0. 0. 0. 0. 0.]\n",
      " [0. 1. 0. 0. 0. 0. 0. 0. 0. 0.]\n",
      " [0. 0. 0. 1. 0. 0. 0. 0. 0. 0.]\n",
      " [0. 1. 0. 0. 0. 0. 0. 0. 0. 0.]\n",
      " [0. 0. 0. 0. 1. 0. 0. 0. 0. 0.]]\n",
      "\n",
      "Average train loss for the 1 epoch: 0.773\n",
      "\n",
      "\tAverage test accuracy for the 1 epoch: 93.53\n",
      "\n",
      "Average train loss for the 2 epoch: 0.159\n",
      "\n",
      "\tAverage test accuracy for the 2 epoch: 96.10\n",
      "\n",
      "Average train loss for the 3 epoch: 0.099\n",
      "\n",
      "\tAverage test accuracy for the 3 epoch: 96.50\n",
      "\n",
      "Average train loss for the 4 epoch: 0.067\n",
      "\n",
      "\tAverage test accuracy for the 4 epoch: 96.50\n",
      "\n",
      "Average train loss for the 5 epoch: 0.047\n",
      "\n",
      "\tAverage test accuracy for the 5 epoch: 96.59\n",
      "\n",
      "Average train loss for the 6 epoch: 0.032\n",
      "\n",
      "\tAverage test accuracy for the 6 epoch: 97.33\n",
      "\n",
      "Average train loss for the 7 epoch: 0.023\n",
      "\n",
      "\tAverage test accuracy for the 7 epoch: 97.77\n",
      "\n",
      "Average train loss for the 8 epoch: 0.017\n",
      "\n",
      "\tAverage test accuracy for the 8 epoch: 97.88\n",
      "\n",
      "Average train loss for the 9 epoch: 0.013\n",
      "\n",
      "\tAverage test accuracy for the 9 epoch: 97.78\n",
      "\n",
      "Average train loss for the 10 epoch: 0.010\n",
      "\n",
      "\tAverage test accuracy for the 10 epoch: 98.01\n",
      "\n",
      "Average train loss for the 11 epoch: 0.007\n",
      "\n",
      "\tAverage test accuracy for the 11 epoch: 98.01\n",
      "\n",
      "Average train loss for the 12 epoch: 0.005\n",
      "\n",
      "\tAverage test accuracy for the 12 epoch: 98.12\n",
      "\n",
      "Average train loss for the 13 epoch: 0.005\n",
      "\n",
      "\tAverage test accuracy for the 13 epoch: 97.88\n",
      "\n",
      "Average train loss for the 14 epoch: 0.003\n",
      "\n",
      "\tAverage test accuracy for the 14 epoch: 97.99\n",
      "\n",
      "Average train loss for the 15 epoch: 0.002\n",
      "\n",
      "\tAverage test accuracy for the 15 epoch: 98.14\n",
      "\n",
      "Average train loss for the 16 epoch: 0.001\n",
      "\n",
      "\tAverage test accuracy for the 16 epoch: 98.33\n",
      "\n",
      "Average train loss for the 17 epoch: 0.001\n",
      "\n",
      "\tAverage test accuracy for the 17 epoch: 98.33\n",
      "\n",
      "Average train loss for the 18 epoch: 0.000\n",
      "\n",
      "\tAverage test accuracy for the 18 epoch: 98.39\n",
      "\n",
      "Average train loss for the 19 epoch: 0.000\n",
      "\n",
      "\tAverage test accuracy for the 19 epoch: 98.38\n",
      "\n",
      "Average train loss for the 20 epoch: 0.000\n",
      "\n",
      "\tAverage test accuracy for the 20 epoch: 98.38\n",
      "\n",
      "Average train loss for the 21 epoch: 0.000\n",
      "\n",
      "\tAverage test accuracy for the 21 epoch: 98.40\n",
      "\n",
      "Average train loss for the 22 epoch: 0.000\n",
      "\n",
      "\tAverage test accuracy for the 22 epoch: 98.39\n",
      "\n",
      "Average train loss for the 23 epoch: 0.000\n",
      "\n",
      "\tAverage test accuracy for the 23 epoch: 98.40\n",
      "\n",
      "Average train loss for the 24 epoch: 0.000\n",
      "\n",
      "\tAverage test accuracy for the 24 epoch: 98.41\n",
      "\n",
      "Average train loss for the 25 epoch: 0.000\n",
      "\n",
      "\tAverage test accuracy for the 25 epoch: 98.41\n",
      "\n",
      "Average train loss for the 26 epoch: 0.000\n",
      "\n",
      "\tAverage test accuracy for the 26 epoch: 98.41\n",
      "\n",
      "Average train loss for the 27 epoch: 0.000\n",
      "\n",
      "\tAverage test accuracy for the 27 epoch: 98.42\n",
      "\n",
      "Average train loss for the 28 epoch: 0.000\n",
      "\n",
      "\tAverage test accuracy for the 28 epoch: 98.41\n",
      "\n",
      "Average train loss for the 29 epoch: 0.000\n",
      "\n",
      "\tAverage test accuracy for the 29 epoch: 98.42\n",
      "\n",
      "Average train loss for the 30 epoch: 0.000\n",
      "\n",
      "\tAverage test accuracy for the 30 epoch: 98.41\n",
      "\n",
      "Average train loss for the 31 epoch: 0.000\n",
      "\n",
      "\tAverage test accuracy for the 31 epoch: 98.41\n",
      "\n",
      "Average train loss for the 32 epoch: 0.000\n",
      "\n",
      "\tAverage test accuracy for the 32 epoch: 98.42\n",
      "\n",
      "Average train loss for the 33 epoch: 0.000\n",
      "\n",
      "\tAverage test accuracy for the 33 epoch: 98.41\n",
      "\n",
      "Average train loss for the 34 epoch: 0.000\n",
      "\n",
      "\tAverage test accuracy for the 34 epoch: 98.40\n",
      "\n",
      "Average train loss for the 35 epoch: 0.000\n",
      "\n",
      "\tAverage test accuracy for the 35 epoch: 98.39\n",
      "\n",
      "Average train loss for the 36 epoch: 0.000\n",
      "\n",
      "\tAverage test accuracy for the 36 epoch: 98.39\n",
      "\n",
      "Average train loss for the 37 epoch: 0.000\n",
      "\n",
      "\tAverage test accuracy for the 37 epoch: 98.39\n",
      "\n",
      "Average train loss for the 38 epoch: 0.000\n",
      "\n",
      "\tAverage test accuracy for the 38 epoch: 98.39\n",
      "\n",
      "Average train loss for the 39 epoch: 0.000\n",
      "\n",
      "\tAverage test accuracy for the 39 epoch: 98.39\n",
      "\n",
      "Average train loss for the 40 epoch: 0.000\n",
      "\n",
      "\tAverage test accuracy for the 40 epoch: 98.39\n",
      "\n",
      "Average train loss for the 41 epoch: 0.000\n",
      "\n",
      "\tAverage test accuracy for the 41 epoch: 98.39\n",
      "\n",
      "Average train loss for the 42 epoch: 0.000\n",
      "\n",
      "\tAverage test accuracy for the 42 epoch: 98.39\n",
      "\n",
      "Average train loss for the 43 epoch: 0.000\n",
      "\n",
      "\tAverage test accuracy for the 43 epoch: 98.39\n",
      "\n",
      "Average train loss for the 44 epoch: 0.000\n",
      "\n",
      "\tAverage test accuracy for the 44 epoch: 98.39\n",
      "\n",
      "Average train loss for the 45 epoch: 0.000\n",
      "\n",
      "\tAverage test accuracy for the 45 epoch: 98.39\n",
      "\n",
      "Average train loss for the 46 epoch: 0.000\n",
      "\n",
      "\tAverage test accuracy for the 46 epoch: 98.39\n",
      "\n",
      "Average train loss for the 47 epoch: 0.000\n",
      "\n",
      "\tAverage test accuracy for the 47 epoch: 98.37\n",
      "\n",
      "Average train loss for the 48 epoch: 0.000\n",
      "\n",
      "\tAverage test accuracy for the 48 epoch: 98.37\n",
      "\n",
      "Average train loss for the 49 epoch: 0.000\n",
      "\n",
      "\tAverage test accuracy for the 49 epoch: 98.37\n",
      "\n",
      "Average train loss for the 50 epoch: 0.000\n",
      "\n",
      "\tAverage test accuracy for the 50 epoch: 98.37\n",
      "\n"
     ]
    }
   ],
   "source": [
    "session = tf.InteractiveSession()\n",
    "\n",
    "tf.global_variables_initializer().run()\n",
    "\n",
    "NUM_EPOCHS = 50\n",
    "\n",
    "def accuracy(predictions, labels):\n",
    "    ''' Measure the classification accuracy of some predictions (softmax outputs) \n",
    "    and labels (integer class labels)'''\n",
    "    return np.sum(np.argmax(predictions,axis=1).flatten()==labels.flatten())/batch_size\n",
    "\n",
    "test_accuracy_over_time = []\n",
    "train_loss_over_time = []\n",
    "for epoch in range(NUM_EPOCHS):\n",
    "    train_loss = []\n",
    "    \n",
    "    # Training Phase \n",
    "    for step in range(train_inputs.shape[0]//batch_size):\n",
    "        # Creating one-hot encoded labels with labels\n",
    "        # One-hot encoding dight 3 for 10-class MNIST data set will result in\n",
    "        # [0,0,0,1,0,0,0,0,0,0]\n",
    "        labels_one_hot = np.zeros((batch_size, num_labels),dtype=np.float32)\n",
    "        labels_one_hot[np.arange(batch_size),train_labels[step*batch_size:(step+1)*batch_size]] = 1.0\n",
    "        \n",
    "        # Printing the one-hot labels\n",
    "        if epoch ==0 and step==0:\n",
    "            print('Sample labels (one-hot)')\n",
    "            print(labels_one_hot[:10])\n",
    "            print()\n",
    "        \n",
    "        # Running the optimization process\n",
    "        loss, _ = session.run([tf_loss,tf_loss_minimize],feed_dict={\n",
    "            tf_inputs: train_inputs[step*batch_size: (step+1)*batch_size,:],\n",
    "            tf_labels: labels_one_hot}\n",
    "                             )\n",
    "        train_loss.append(loss) # Used to average the loss for a single epoch\n",
    "        \n",
    "    test_accuracy = []\n",
    "    # Testing Phase\n",
    "    for step in range(test_inputs.shape[0]//batch_size):\n",
    "        test_predictions = session.run(tf_predictions,feed_dict={tf_inputs: test_inputs[step*batch_size: (step+1)*batch_size,:]})\n",
    "        batch_test_accuracy = accuracy(test_predictions,test_labels[step*batch_size: (step+1)*batch_size])        \n",
    "        test_accuracy.append(batch_test_accuracy)\n",
    "    \n",
    "    print('Average train loss for the %d epoch: %.3f\\n'%(epoch+1,np.mean(train_loss)))\n",
    "    train_loss_over_time.append(np.mean(train_loss))\n",
    "    print('\\tAverage test accuracy for the %d epoch: %.2f\\n'%(epoch+1,np.mean(test_accuracy)*100.0))\n",
    "    test_accuracy_over_time.append(np.mean(test_accuracy)*100)\n",
    "\n",
    "session.close()"
   ]
  },
  {
   "cell_type": "markdown",
   "metadata": {},
   "source": [
    "# Visualizing the loss and Accuracy"
   ]
  },
  {
   "cell_type": "code",
   "execution_count": 68,
   "metadata": {},
   "outputs": [
    {
     "data": {
      "image/png": "[encoded data removed]",
      "text/plain": [
       "<matplotlib.figure.Figure at 0x181ef737b8>"
      ]
     },
     "metadata": {},
     "output_type": "display_data"
    }
   ],
   "source": [
    "x_axis = np.arange(len(train_loss_over_time))\n",
    "\n",
    "fig, ax = plt.subplots(nrows=1, ncols=2)\n",
    "fig.set_size_inches(w=25,h=5)\n",
    "ax[0].plot(x_axis, train_loss_over_time)\n",
    "ax[0].set_xlabel('Epochs',fontsize=18)\n",
    "ax[0].set_ylabel('Average train loss',fontsize=18)\n",
    "ax[0].set_title('Training Loss over Time',fontsize=20)\n",
    "ax[1].plot(x_axis, test_accuracy_over_time)\n",
    "ax[1].set_xlabel('Epochs',fontsize=18)\n",
    "ax[1].set_ylabel('Test accuracy',fontsize=18)\n",
    "ax[1].set_title('Test Accuracy over Time',fontsize=20)\n",
    "fig.savefig('mnist_stats.jpg')\n"
   ]
  },
  {
   "cell_type": "markdown",
   "metadata": {},
   "source": [
    "## We attend and accuracy of 98.37%. "
   ]
  },
  {
   "cell_type": "code",
   "execution_count": null,
   "metadata": {},
   "outputs": [],
   "source": [
    "\n"
   ]
  }
 ],
 "metadata": {
  "kernelspec": {
   "display_name": "Python 3",
   "language": "python",
   "name": "python3"
  }
 },
 "nbformat": 4,
 "nbformat_minor": 2
}
